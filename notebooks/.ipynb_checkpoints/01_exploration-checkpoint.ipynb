{
 "cells": [
  {
   "cell_type": "markdown",
   "id": "95fcc048",
   "metadata": {},
   "source": [
    "# 01_exploration.ipynb\n",
    "\n",
    "Notebook d'exploration initiale du jeu de données Car Insurance."
   ]
  },
  {
   "cell_type": "markdown",
   "id": "85f4e645",
   "metadata": {},
   "source": [
    "## 1. Imports et chargement des données"
   ]
  },
  {
   "cell_type": "code",
   "execution_count": null,
   "id": "5387c90a",
   "metadata": {},
   "outputs": [],
   "source": [
    "import pandas as pd\n",
    "import numpy as np\n",
    "import matplotlib.pyplot as plt\n",
    "\n",
    "# Chargement des données\n",
    "df = pd.read_csv('../data/car_insurance.csv')\n",
    "df.head()"
   ]
  },
  {
   "cell_type": "markdown",
   "id": "dd73cccc",
   "metadata": {},
   "source": [
    "## 2. Aperçu des données"
   ]
  },
  {
   "cell_type": "code",
   "execution_count": null,
   "id": "5402dd72",
   "metadata": {},
   "outputs": [],
   "source": [
    "print('Dimensions :', df.shape)\n",
    "display(df.describe(include='all').T)"
   ]
  },
  {
   "cell_type": "markdown",
   "id": "f8e5136b",
   "metadata": {},
   "source": [
    "## 3. Valeurs manquantes"
   ]
  },
  {
   "cell_type": "code",
   "execution_count": null,
   "id": "103e5dc7",
   "metadata": {},
   "outputs": [],
   "source": [
    "df.isna().sum()"
   ]
  },
  {
   "cell_type": "markdown",
   "id": "7c46946d",
   "metadata": {},
   "source": [
    "## 4. Distribution des variables clés"
   ]
  },
  {
   "cell_type": "code",
   "execution_count": null,
   "id": "9349c6a0",
   "metadata": {},
   "outputs": [],
   "source": [
    "for col in ['age', 'annual_mileage', 'credit_score']:\n",
    "    df[col].hist()\n",
    "    plt.title(f'Distribution de {col}')\n",
    "    plt.show()"
   ]
  },
  {
   "cell_type": "code",
   "execution_count": null,
   "id": "957ac3dd",
   "metadata": {},
   "outputs": [],
   "source": [
    "for col in ['education', 'vehicle_type']:\n",
    "    df[col].value_counts().plot(kind='bar')\n",
    "    plt.title(f'Repartition de {col}')\n",
    "    plt.show()"
   ]
  },
  {
   "cell_type": "markdown",
   "id": "c1acc7cf",
   "metadata": {},
   "source": [
    "## 5. Premières observations\n",
    "- Variables à encoder : ...\n",
    "- Variables à normaliser : ...\n",
    "- Anomalies potentielles : ..."
   ]
  }
 ],
 "metadata": {},
 "nbformat": 4,
 "nbformat_minor": 5
}
