{
 "cells": [
  {
   "cell_type": "markdown",
   "id": "95fcc048",
   "metadata": {},
   "source": [
    "# 01_exploration.ipynb\n",
    "\n",
    "Notebook d'exploration initiale du jeu de données Car Insurance.\n",
    "\n",
    "# Projet : Assurance automobile\n",
    "**Auteurs** : Bahir Boudouma, Youri Stecko  \n",
    "**Objectif** : Construire un modèle de classification supervisée pour prédire la survenue d’un sinistre à partir de données client.\n"
   ]
  },
  {
   "cell_type": "markdown",
   "id": "85f4e645",
   "metadata": {},
   "source": [
    "## 3. Importation des données"
   ]
  },
  {
   "cell_type": "code",
   "execution_count": 9,
   "id": "5387c90a",
   "metadata": {
    "ExecuteTime": {
     "end_time": "2025-05-20T19:58:56.148456Z",
     "start_time": "2025-05-20T19:58:56.043125Z"
    }
   },
   "outputs": [
    {
     "data": {
      "text/plain": "       id  age  gender driving_experience    education         income  \\\n0  569520    3       0               0-9y  high school    upper class   \n1  750365    0       1               0-9y         none        poverty   \n2  199901    0       0               0-9y  high school  working class   \n3  478866    0       1               0-9y   university  working class   \n4  731664    1       1             10-19y         none  working class   \n\n   credit_score  vehicle_ownership vehicle_year  married  children  \\\n0      0.629027                1.0   after 2015      0.0       1.0   \n1      0.357757                0.0  before 2015      0.0       0.0   \n2      0.493146                1.0  before 2015      0.0       0.0   \n3      0.206013                1.0  before 2015      0.0       1.0   \n4      0.388366                1.0  before 2015      0.0       0.0   \n\n   postal_code  annual_mileage vehicle_type  speeding_violations  duis  \\\n0        10238         12000.0        sedan                    0     0   \n1        10238         16000.0        sedan                    0     0   \n2        10238         11000.0        sedan                    0     0   \n3        32765         11000.0        sedan                    0     0   \n4        32765         12000.0        sedan                    2     0   \n\n   past_accidents  outcome  \n0               0      0.0  \n1               0      1.0  \n2               0      0.0  \n3               0      0.0  \n4               1      1.0  ",
      "text/html": "<div>\n<style scoped>\n    .dataframe tbody tr th:only-of-type {\n        vertical-align: middle;\n    }\n\n    .dataframe tbody tr th {\n        vertical-align: top;\n    }\n\n    .dataframe thead th {\n        text-align: right;\n    }\n</style>\n<table border=\"1\" class=\"dataframe\">\n  <thead>\n    <tr style=\"text-align: right;\">\n      <th></th>\n      <th>id</th>\n      <th>age</th>\n      <th>gender</th>\n      <th>driving_experience</th>\n      <th>education</th>\n      <th>income</th>\n      <th>credit_score</th>\n      <th>vehicle_ownership</th>\n      <th>vehicle_year</th>\n      <th>married</th>\n      <th>children</th>\n      <th>postal_code</th>\n      <th>annual_mileage</th>\n      <th>vehicle_type</th>\n      <th>speeding_violations</th>\n      <th>duis</th>\n      <th>past_accidents</th>\n      <th>outcome</th>\n    </tr>\n  </thead>\n  <tbody>\n    <tr>\n      <th>0</th>\n      <td>569520</td>\n      <td>3</td>\n      <td>0</td>\n      <td>0-9y</td>\n      <td>high school</td>\n      <td>upper class</td>\n      <td>0.629027</td>\n      <td>1.0</td>\n      <td>after 2015</td>\n      <td>0.0</td>\n      <td>1.0</td>\n      <td>10238</td>\n      <td>12000.0</td>\n      <td>sedan</td>\n      <td>0</td>\n      <td>0</td>\n      <td>0</td>\n      <td>0.0</td>\n    </tr>\n    <tr>\n      <th>1</th>\n      <td>750365</td>\n      <td>0</td>\n      <td>1</td>\n      <td>0-9y</td>\n      <td>none</td>\n      <td>poverty</td>\n      <td>0.357757</td>\n      <td>0.0</td>\n      <td>before 2015</td>\n      <td>0.0</td>\n      <td>0.0</td>\n      <td>10238</td>\n      <td>16000.0</td>\n      <td>sedan</td>\n      <td>0</td>\n      <td>0</td>\n      <td>0</td>\n      <td>1.0</td>\n    </tr>\n    <tr>\n      <th>2</th>\n      <td>199901</td>\n      <td>0</td>\n      <td>0</td>\n      <td>0-9y</td>\n      <td>high school</td>\n      <td>working class</td>\n      <td>0.493146</td>\n      <td>1.0</td>\n      <td>before 2015</td>\n      <td>0.0</td>\n      <td>0.0</td>\n      <td>10238</td>\n      <td>11000.0</td>\n      <td>sedan</td>\n      <td>0</td>\n      <td>0</td>\n      <td>0</td>\n      <td>0.0</td>\n    </tr>\n    <tr>\n      <th>3</th>\n      <td>478866</td>\n      <td>0</td>\n      <td>1</td>\n      <td>0-9y</td>\n      <td>university</td>\n      <td>working class</td>\n      <td>0.206013</td>\n      <td>1.0</td>\n      <td>before 2015</td>\n      <td>0.0</td>\n      <td>1.0</td>\n      <td>32765</td>\n      <td>11000.0</td>\n      <td>sedan</td>\n      <td>0</td>\n      <td>0</td>\n      <td>0</td>\n      <td>0.0</td>\n    </tr>\n    <tr>\n      <th>4</th>\n      <td>731664</td>\n      <td>1</td>\n      <td>1</td>\n      <td>10-19y</td>\n      <td>none</td>\n      <td>working class</td>\n      <td>0.388366</td>\n      <td>1.0</td>\n      <td>before 2015</td>\n      <td>0.0</td>\n      <td>0.0</td>\n      <td>32765</td>\n      <td>12000.0</td>\n      <td>sedan</td>\n      <td>2</td>\n      <td>0</td>\n      <td>1</td>\n      <td>1.0</td>\n    </tr>\n  </tbody>\n</table>\n</div>"
     },
     "execution_count": 9,
     "metadata": {},
     "output_type": "execute_result"
    }
   ],
   "source": [
    "import pandas as pd\n",
    "import numpy as np\n",
    "import matplotlib.pyplot as plt\n",
    "\n",
    "# Chargement des données\n",
    "df = pd.read_csv('../data/car_insurance.csv')\n",
    "df.head()"
   ]
  },
  {
   "cell_type": "markdown",
   "id": "dd73cccc",
   "metadata": {},
   "source": [
    "## 4. Examen des données"
   ]
  },
  {
   "cell_type": "code",
   "execution_count": 10,
   "id": "5402dd72",
   "metadata": {
    "ExecuteTime": {
     "end_time": "2025-05-20T20:00:48.071645Z",
     "start_time": "2025-05-20T20:00:48.022057Z"
    }
   },
   "outputs": [
    {
     "name": "stdout",
     "output_type": "stream",
     "text": [
      "\n",
      "--- Taille du DataFrame ---\n",
      "Taille du jeu de données : (10000, 18)\n",
      "\n",
      "--- Types de données ---\n",
      "id                       int64\n",
      "age                      int64\n",
      "gender                   int64\n",
      "driving_experience      object\n",
      "education               object\n",
      "income                  object\n",
      "credit_score           float64\n",
      "vehicle_ownership      float64\n",
      "vehicle_year            object\n",
      "married                float64\n",
      "children               float64\n",
      "postal_code              int64\n",
      "annual_mileage         float64\n",
      "vehicle_type            object\n",
      "speeding_violations      int64\n",
      "duis                     int64\n",
      "past_accidents           int64\n",
      "outcome                float64\n",
      "dtype: object\n",
      "\n",
      "--- Valeurs manquantes ---\n",
      "id                       0\n",
      "age                      0\n",
      "gender                   0\n",
      "driving_experience       0\n",
      "education                0\n",
      "income                   0\n",
      "credit_score           982\n",
      "vehicle_ownership        0\n",
      "vehicle_year             0\n",
      "married                  0\n",
      "children                 0\n",
      "postal_code              0\n",
      "annual_mileage         957\n",
      "vehicle_type             0\n",
      "speeding_violations      0\n",
      "duis                     0\n",
      "past_accidents           0\n",
      "outcome                  0\n",
      "dtype: int64\n"
     ]
    }
   ],
   "source": [
    "import pandas as pd\n",
    "import matplotlib.pyplot as plt\n",
    "\n",
    "df = pd.read_csv('../data/car_insurance.csv')\n",
    "\n",
    "### 🔎 Taille du DataFrame\n",
    "print(\"\\n--- Taille du DataFrame ---\")\n",
    "print(\"Taille du jeu de données :\", df.shape)\n",
    "\n",
    "\n",
    "### ℹ️ Types des colonnes\n",
    "\n",
    "print(\"\\n--- Types de données ---\")\n",
    "print(df.dtypes)\n",
    "\n",
    "\n",
    "### ❗ Données manquantes\n",
    "\n",
    "print(\"\\n--- Valeurs manquantes ---\")\n",
    "print(df.isna().sum())\n"
   ]
  },
  {
   "cell_type": "markdown",
   "id": "f8e5136b",
   "metadata": {},
   "source": [
    "Visualisation des variables numériques"
   ]
  },
  {
   "cell_type": "code",
   "execution_count": 8,
   "id": "103e5dc7",
   "metadata": {
    "ExecuteTime": {
     "end_time": "2025-05-20T19:45:21.290750Z",
     "start_time": "2025-05-20T19:45:19.619213Z"
    }
   },
   "outputs": [
    {
     "data": {
      "text/plain": "<Figure size 1500x1000 with 16 Axes>",
      "image/png": "[encoded data removed]"
     },
     "metadata": {},
     "output_type": "display_data"
    }
   ],
   "source": [
    "# Sélection des colonnes numériques\n",
    "num_cols = df.select_dtypes(include=['int64', 'float64']).columns\n",
    "\n",
    "# Histogrammes\n",
    "df[num_cols].hist(bins=20, figsize=(15, 10))\n",
    "plt.tight_layout()\n",
    "plt.show()"
   ]
  },
  {
   "cell_type": "markdown",
   "id": "7c46946d",
   "metadata": {},
   "source": [
    "## 5 Preparation des données"
   ]
  },
  {
   "cell_type": "code",
   "execution_count": 19,
   "id": "9349c6a0",
   "metadata": {
    "ExecuteTime": {
     "end_time": "2025-05-20T20:10:05.939139Z",
     "start_time": "2025-05-20T20:10:00.997426Z"
    }
   },
   "outputs": [],
   "source": [
    "# Remplir les valeurs manquantes numériques par la médiane\n",
    "num_cols = df.select_dtypes(include=['int64', 'float64']).columns\n",
    "for col in num_cols:\n",
    "    if df[col].isna().sum() > 0:\n",
    "        median = df[col].median()\n",
    "        df[col] = df[col].fillna(median)\n",
    "\n",
    "# Remplir les valeurs manquantes catégorielles par la valeur la plus fréquente\n",
    "cat_cols = df.select_dtypes(include='object').columns\n",
    "for col in cat_cols:\n",
    "    if df[col].isna().sum() > 0:\n",
    "        mode = df[col].mode()[0]\n",
    "        df[col] = df[col].fillna(mode)\n",
    "\n",
    "\n",
    "### Traitement des données aberrantes\n",
    "\n",
    "# suppression des valeurs aberrantes sur 'children' (>= 20 considérés comme aberrants)\n",
    "df = df[df['children'] < 20]\n",
    "\n",
    "# suppression des valeurs extrêmes sur 'speeding_violations' (arbitrairement > 100)\n",
    "df = df[df['speeding_violations'] < 100]\n",
    "\n",
    "\n",
    "### 🔢 Transformation des variables qualitatives\n",
    "\n",
    "from sklearn.preprocessing import LabelEncoder\n",
    "\n",
    "# Transformation des variables catégorielles en numériques\n",
    "\n",
    "le = LabelEncoder()\n",
    "cat_cols = df.select_dtypes(include='object').columns\n",
    "for col in cat_cols:\n",
    "    df[col] = le.fit_transform(df[col])\n",
    "\n",
    "### ️ Normalisation des données\n",
    "\n",
    "from sklearn.preprocessing import StandardScaler\n",
    "\n",
    "# Normalisation des données numériques\n",
    "scaler = StandardScaler()\n",
    "df[num_cols] = scaler.fit_transform(df[num_cols])\n"
   ]
  },
  {
   "cell_type": "code",
   "execution_count": 22,
   "id": "957ac3dd",
   "metadata": {
    "ExecuteTime": {
     "end_time": "2025-05-20T20:20:57.946033Z",
     "start_time": "2025-05-20T20:20:57.873726Z"
    }
   },
   "outputs": [
    {
     "name": "stdout",
     "output_type": "stream",
     "text": [
      "\n",
      "--- Vérification des valeurs manquantes ---\n",
      "age                    0\n",
      "gender                 0\n",
      "driving_experience     0\n",
      "education              0\n",
      "income                 0\n",
      "credit_score           0\n",
      "vehicle_ownership      0\n",
      "vehicle_year           0\n",
      "married                0\n",
      "children               0\n",
      "annual_mileage         0\n",
      "vehicle_type           0\n",
      "speeding_violations    0\n",
      "duis                   0\n",
      "past_accidents         0\n",
      "outcome                0\n",
      "dtype: int64\n",
      "\n",
      "--- Types de données après transformation ---\n",
      "age                    float64\n",
      "gender                 float64\n",
      "driving_experience       int64\n",
      "education                int64\n",
      "income                   int64\n",
      "credit_score           float64\n",
      "vehicle_ownership      float64\n",
      "vehicle_year             int64\n",
      "married                float64\n",
      "children               float64\n",
      "annual_mileage         float64\n",
      "vehicle_type             int64\n",
      "speeding_violations    float64\n",
      "duis                   float64\n",
      "past_accidents         float64\n",
      "outcome                float64\n",
      "dtype: object\n",
      "\n",
      "--- Aperçu des données préparées ---\n",
      "        age    gender  driving_experience  education  income  credit_score  \\\n",
      "0  1.472718 -0.998400                   0          0       2      0.858532   \n",
      "1 -1.453390  1.001603                   0          1       1     -1.217658   \n",
      "2 -1.453390 -0.998400                   0          0       3     -0.181449   \n",
      "3 -1.453390  1.001603                   0          2       3     -2.379047   \n",
      "4 -0.478021  1.001603                   1          1       3     -0.983391   \n",
      "\n",
      "   vehicle_ownership  vehicle_year   married  children  annual_mileage  \\\n",
      "0           0.658931             0 -0.996603  0.671924        0.102439   \n",
      "1          -1.517610             1 -0.996603 -1.488264        1.593975   \n",
      "2           0.658931             1 -0.996603 -1.488264       -0.270445   \n",
      "3           0.658931             1 -0.996603  0.671924       -0.270445   \n",
      "4           0.658931             1 -0.996603 -1.488264        0.102439   \n",
      "\n",
      "   vehicle_type  speeding_violations      duis  past_accidents   outcome  \n",
      "0             0            -0.661842 -0.431225       -0.639624 -0.674907  \n",
      "1             0            -0.661842 -0.431225       -0.639624  1.481687  \n",
      "2             0            -0.661842 -0.431225       -0.639624 -0.674907  \n",
      "3             0            -0.661842 -0.431225       -0.639624 -0.674907  \n",
      "4             0             0.230076 -0.431225       -0.034576  1.481687  \n",
      "\n",
      "--- Statistiques descriptives ---\n",
      "                age        gender  driving_experience    education  \\\n",
      "count  9.992000e+03  9.992000e+03         9992.000000  9992.000000   \n",
      "mean  -1.120001e-17 -5.973338e-17            1.069956     0.977382   \n",
      "std    1.000050e+00  1.000050e+00            0.990501     0.899008   \n",
      "min   -1.453390e+00 -9.984000e-01            0.000000     0.000000   \n",
      "25%   -4.780208e-01 -9.984000e-01            0.000000     0.000000   \n",
      "50%   -4.780208e-01 -9.984000e-01            1.000000     1.000000   \n",
      "75%    4.973486e-01  1.001603e+00            2.000000     2.000000   \n",
      "max    1.472718e+00  1.001603e+00            3.000000     2.000000   \n",
      "\n",
      "            income  credit_score  vehicle_ownership  vehicle_year  \\\n",
      "count  9992.000000  9.992000e+03       9.992000e+03   9992.000000   \n",
      "mean      1.562450 -7.680006e-17      -7.217783e-17      0.696557   \n",
      "std       1.008176  1.000050e+00       1.000050e+00      0.459768   \n",
      "min       0.000000 -3.547408e+00      -1.517610e+00      0.000000   \n",
      "25%       1.000000 -6.523919e-01      -1.517610e+00      0.000000   \n",
      "50%       2.000000  6.260064e-02       6.589308e-01      1.000000   \n",
      "75%       2.000000  6.947503e-01       6.589308e-01      1.000000   \n",
      "max       3.000000  3.397928e+00       6.589308e-01      1.000000   \n",
      "\n",
      "            married      children  annual_mileage  vehicle_type  \\\n",
      "count  9.992000e+03  9.992000e+03    9.992000e+03   9992.000000   \n",
      "mean   1.422223e-17 -2.560002e-17    3.377780e-17      0.047738   \n",
      "std    1.000050e+00  1.000050e+00    1.000050e+00      0.213222   \n",
      "min   -9.966030e-01 -1.488264e+00   -3.626402e+00      0.000000   \n",
      "25%   -9.966030e-01 -1.488264e+00   -6.433296e-01      0.000000   \n",
      "50%   -9.966030e-01  6.719239e-01    1.024386e-01      0.000000   \n",
      "75%    1.003409e+00  6.719239e-01    4.753227e-01      0.000000   \n",
      "max    1.003409e+00  6.719239e-01    3.831280e+00      1.000000   \n",
      "\n",
      "       speeding_violations          duis  past_accidents       outcome  \n",
      "count         9.992000e+03  9.992000e+03    9.992000e+03  9.992000e+03  \n",
      "mean         -1.920001e-17  8.248895e-17    6.257782e-17 -2.666669e-17  \n",
      "std           1.000050e+00  1.000050e+00    1.000050e+00  1.000050e+00  \n",
      "min          -6.618422e-01 -4.312247e-01   -6.396237e-01 -6.749066e-01  \n",
      "25%          -6.618422e-01 -4.312247e-01   -6.396237e-01 -6.749066e-01  \n",
      "50%          -6.618422e-01 -4.312247e-01   -6.396237e-01 -6.749066e-01  \n",
      "75%           2.300760e-01 -4.312247e-01    5.704719e-01  1.481687e+00  \n",
      "max           9.149258e+00  1.037680e+01    8.436093e+00  1.481687e+00  \n"
     ]
    }
   ],
   "source": [
    "print(\"\\n--- Vérification des valeurs manquantes ---\")\n",
    "print(df.isna().sum())\n",
    "\n",
    "###  Vérification des types de données après transformation\n",
    "\n",
    "print(\"\\n--- Types de données après transformation ---\")\n",
    "print(df.dtypes)\n",
    "\n",
    "\n",
    "### Aperçu des données préparées\n",
    "\n",
    "print(\"\\n--- Aperçu des données préparées ---\")\n",
    "print(df.head())\n",
    "\n",
    "\n",
    "### Statistiques descriptives\n",
    "\n",
    "print(\"\\n--- Statistiques descriptives ---\")\n",
    "print(df.describe())"
   ]
  },
  {
   "cell_type": "markdown",
   "id": "36cef481809e77c2",
   "metadata": {
    "jp-MarkdownHeadingCollapsed": true
   },
   "source": []
  },
  {
   "cell_type": "markdown",
   "id": "40321707476e15c",
   "metadata": {},
   "source": [
    "\n"
   ]
  },
  {
   "cell_type": "code",
   "execution_count": 22,
   "id": "b062a6c1a2705136",
   "metadata": {
    "ExecuteTime": {
     "end_time": "2025-05-20T20:21:06.659012Z",
     "start_time": "2025-05-20T20:21:06.614509Z"
    }
   },
   "outputs": [],
   "source": []
  },
  {
   "cell_type": "markdown",
   "id": "6eb8cfbeb27aa916",
   "metadata": {},
   "source": [
    "## 7. Détection et traitement des outliers\n"
   ]
  },
  {
   "cell_type": "code",
   "execution_count": 22,
   "id": "1f5d5062e19095d2",
   "metadata": {
    "ExecuteTime": {
     "end_time": "2025-05-20T20:21:12.116739Z",
     "start_time": "2025-05-20T20:21:12.028933Z"
    }
   },
   "outputs": [],
   "source": []
  },
  {
   "cell_type": "markdown",
   "id": "4ee8dd48f6849bea",
   "metadata": {},
   "source": [
    "## 8. Encodage des variables catégorielles\n"
   ]
  },
  {
   "cell_type": "code",
   "execution_count": 23,
   "id": "589e029bfa5fbcd6",
   "metadata": {
    "ExecuteTime": {
     "end_time": "2025-05-12T09:25:46.642014Z",
     "start_time": "2025-05-12T09:25:46.634273Z"
    }
   },
   "outputs": [
    {
     "name": "stdout",
     "output_type": "stream",
     "text": [
      "Colonnes après encodage : ['id', 'age', 'gender', 'driving_experience', 'income', 'credit_score', 'vehicle_ownership', 'vehicle_year', 'married', 'children', 'postal_code', 'annual_mileage', 'speeding_violations', 'duis', 'past_accidents', 'outcome', 'vehicle_type_sports car', 'education_none', 'education_university']\n"
     ]
    }
   ],
   "source": [
    "# 8.1. One-Hot pour nominales\n",
    "to_ohe = ['vehicle_type', 'education']  # adaptez selon vos colonnes\n",
    "df = pd.get_dummies(df, columns=to_ohe, drop_first=True)\n",
    "\n",
    "# 8.2. Vérification\n",
    "print(\"Colonnes après encodage :\", df.columns.tolist())\n"
   ]
  },
  {
   "cell_type": "markdown",
   "id": "fc2e816257e805b4",
   "metadata": {},
   "source": [
    "## 9. Mise à l’échelle des variables numériques\n"
   ]
  },
  {
   "cell_type": "code",
   "execution_count": 24,
   "id": "8d500784208b69f0",
   "metadata": {
    "ExecuteTime": {
     "end_time": "2025-05-12T09:25:49.479530Z",
     "start_time": "2025-05-12T09:25:49.463402Z"
    }
   },
   "outputs": [
    {
     "data": {
      "text/html": [
       "<div>\n",
       "<style scoped>\n",
       "    .dataframe tbody tr th:only-of-type {\n",
       "        vertical-align: middle;\n",
       "    }\n",
       "\n",
       "    .dataframe tbody tr th {\n",
       "        vertical-align: top;\n",
       "    }\n",
       "\n",
       "    .dataframe thead th {\n",
       "        text-align: right;\n",
       "    }\n",
       "</style>\n",
       "<table border=\"1\" class=\"dataframe\">\n",
       "  <thead>\n",
       "    <tr style=\"text-align: right;\">\n",
       "      <th></th>\n",
       "      <th>id</th>\n",
       "      <th>age</th>\n",
       "      <th>gender</th>\n",
       "      <th>driving_experience</th>\n",
       "      <th>income</th>\n",
       "      <th>credit_score</th>\n",
       "      <th>vehicle_ownership</th>\n",
       "      <th>vehicle_year</th>\n",
       "      <th>married</th>\n",
       "      <th>children</th>\n",
       "      <th>postal_code</th>\n",
       "      <th>annual_mileage</th>\n",
       "      <th>speeding_violations</th>\n",
       "      <th>duis</th>\n",
       "      <th>past_accidents</th>\n",
       "      <th>outcome</th>\n",
       "      <th>vehicle_type_sports car</th>\n",
       "      <th>education_none</th>\n",
       "      <th>education_university</th>\n",
       "    </tr>\n",
       "  </thead>\n",
       "  <tbody>\n",
       "    <tr>\n",
       "      <th>0</th>\n",
       "      <td>0.249229</td>\n",
       "      <td>1.79997</td>\n",
       "      <td>-0.888889</td>\n",
       "      <td>0-9y</td>\n",
       "      <td>upper class</td>\n",
       "      <td>0.960269</td>\n",
       "      <td>0.710434</td>\n",
       "      <td>after 2015</td>\n",
       "      <td>-0.879883</td>\n",
       "      <td>0.755417</td>\n",
       "      <td>-0.580521</td>\n",
       "      <td>0.009875</td>\n",
       "      <td>-0.594581</td>\n",
       "      <td>0.0</td>\n",
       "      <td>-0.583658</td>\n",
       "      <td>-0.805344</td>\n",
       "      <td>False</td>\n",
       "      <td>False</td>\n",
       "      <td>False</td>\n",
       "    </tr>\n",
       "    <tr>\n",
       "      <th>1</th>\n",
       "      <td>0.870294</td>\n",
       "      <td>-1.21785</td>\n",
       "      <td>1.125000</td>\n",
       "      <td>0-9y</td>\n",
       "      <td>poverty</td>\n",
       "      <td>-1.108373</td>\n",
       "      <td>-1.407590</td>\n",
       "      <td>before 2015</td>\n",
       "      <td>-0.879883</td>\n",
       "      <td>-1.323772</td>\n",
       "      <td>-0.580521</td>\n",
       "      <td>1.656970</td>\n",
       "      <td>-0.594581</td>\n",
       "      <td>0.0</td>\n",
       "      <td>-0.583658</td>\n",
       "      <td>1.241706</td>\n",
       "      <td>False</td>\n",
       "      <td>True</td>\n",
       "      <td>False</td>\n",
       "    </tr>\n",
       "    <tr>\n",
       "      <th>2</th>\n",
       "      <td>-1.020133</td>\n",
       "      <td>-1.21785</td>\n",
       "      <td>-0.888889</td>\n",
       "      <td>0-9y</td>\n",
       "      <td>working class</td>\n",
       "      <td>-0.075931</td>\n",
       "      <td>0.710434</td>\n",
       "      <td>before 2015</td>\n",
       "      <td>-0.879883</td>\n",
       "      <td>-1.323772</td>\n",
       "      <td>-0.580521</td>\n",
       "      <td>-0.401899</td>\n",
       "      <td>-0.594581</td>\n",
       "      <td>0.0</td>\n",
       "      <td>-0.583658</td>\n",
       "      <td>-0.805344</td>\n",
       "      <td>False</td>\n",
       "      <td>False</td>\n",
       "      <td>False</td>\n",
       "    </tr>\n",
       "    <tr>\n",
       "      <th>3</th>\n",
       "      <td>-0.062099</td>\n",
       "      <td>-1.21785</td>\n",
       "      <td>1.125000</td>\n",
       "      <td>0-9y</td>\n",
       "      <td>working class</td>\n",
       "      <td>-2.265538</td>\n",
       "      <td>0.710434</td>\n",
       "      <td>before 2015</td>\n",
       "      <td>-0.879883</td>\n",
       "      <td>0.755417</td>\n",
       "      <td>1.758004</td>\n",
       "      <td>-0.401899</td>\n",
       "      <td>-0.594581</td>\n",
       "      <td>0.0</td>\n",
       "      <td>-0.583658</td>\n",
       "      <td>-0.805344</td>\n",
       "      <td>False</td>\n",
       "      <td>False</td>\n",
       "      <td>True</td>\n",
       "    </tr>\n",
       "    <tr>\n",
       "      <th>4</th>\n",
       "      <td>0.806071</td>\n",
       "      <td>-0.21191</td>\n",
       "      <td>1.125000</td>\n",
       "      <td>10-19y</td>\n",
       "      <td>working class</td>\n",
       "      <td>-0.874957</td>\n",
       "      <td>0.710434</td>\n",
       "      <td>before 2015</td>\n",
       "      <td>-0.879883</td>\n",
       "      <td>-1.323772</td>\n",
       "      <td>1.758004</td>\n",
       "      <td>0.009875</td>\n",
       "      <td>1.064837</td>\n",
       "      <td>0.0</td>\n",
       "      <td>0.916639</td>\n",
       "      <td>1.241706</td>\n",
       "      <td>False</td>\n",
       "      <td>True</td>\n",
       "      <td>False</td>\n",
       "    </tr>\n",
       "  </tbody>\n",
       "</table>\n",
       "</div>"
      ],
      "text/plain": [
       "         id      age    gender driving_experience         income  \\\n",
       "0  0.249229  1.79997 -0.888889               0-9y    upper class   \n",
       "1  0.870294 -1.21785  1.125000               0-9y        poverty   \n",
       "2 -1.020133 -1.21785 -0.888889               0-9y  working class   \n",
       "3 -0.062099 -1.21785  1.125000               0-9y  working class   \n",
       "4  0.806071 -0.21191  1.125000             10-19y  working class   \n",
       "\n",
       "   credit_score  vehicle_ownership vehicle_year   married  children  \\\n",
       "0      0.960269           0.710434   after 2015 -0.879883  0.755417   \n",
       "1     -1.108373          -1.407590  before 2015 -0.879883 -1.323772   \n",
       "2     -0.075931           0.710434  before 2015 -0.879883 -1.323772   \n",
       "3     -2.265538           0.710434  before 2015 -0.879883  0.755417   \n",
       "4     -0.874957           0.710434  before 2015 -0.879883 -1.323772   \n",
       "\n",
       "   postal_code  annual_mileage  speeding_violations  duis  past_accidents  \\\n",
       "0    -0.580521        0.009875            -0.594581   0.0       -0.583658   \n",
       "1    -0.580521        1.656970            -0.594581   0.0       -0.583658   \n",
       "2    -0.580521       -0.401899            -0.594581   0.0       -0.583658   \n",
       "3     1.758004       -0.401899            -0.594581   0.0       -0.583658   \n",
       "4     1.758004        0.009875             1.064837   0.0        0.916639   \n",
       "\n",
       "    outcome  vehicle_type_sports car  education_none  education_university  \n",
       "0 -0.805344                    False           False                 False  \n",
       "1  1.241706                    False            True                 False  \n",
       "2 -0.805344                    False           False                 False  \n",
       "3 -0.805344                    False           False                  True  \n",
       "4  1.241706                    False            True                 False  "
      ]
     },
     "metadata": {},
     "output_type": "display_data"
    }
   ],
   "source": [
    "from sklearn.preprocessing import StandardScaler\n",
    "\n",
    "num_cols = df.select_dtypes(include='number').columns.tolist()\n",
    "scaler = StandardScaler()\n",
    "df[num_cols] = scaler.fit_transform(df[num_cols])\n",
    "\n",
    "# 9.1. Aperçu\n",
    "display(df.head())\n"
   ]
  },
  {
   "cell_type": "markdown",
   "id": "ba444fda5805ad71",
   "metadata": {},
   "source": [
    "## 10. Séparation en jeux d’apprentissage et de test\n"
   ]
  },
  {
   "cell_type": "code",
   "execution_count": 28,
   "id": "ec6daba36b877d9f",
   "metadata": {
    "ExecuteTime": {
     "end_time": "2025-05-12T09:33:54.996364Z",
     "start_time": "2025-05-12T09:33:54.978087Z"
    }
   },
   "outputs": [
    {
     "name": "stdout",
     "output_type": "stream",
     "text": [
      "id                         float64\n",
      "age                        float64\n",
      "gender                     float64\n",
      "driving_experience          object\n",
      "income                      object\n",
      "credit_score               float64\n",
      "vehicle_ownership          float64\n",
      "vehicle_year                object\n",
      "married                    float64\n",
      "children                   float64\n",
      "postal_code                float64\n",
      "annual_mileage             float64\n",
      "speeding_violations        float64\n",
      "duis                       float64\n",
      "past_accidents             float64\n",
      "vehicle_type_sports car       bool\n",
      "education_none                bool\n",
      "education_university          bool\n",
      "dtype: object\n",
      "Taille train : (5104, 18)  - Taille test : (1276, 18)\n",
      "Répartition cible train : outcome\n",
      "-0.805344    0.606583\n",
      " 1.241706    0.393417\n",
      "Name: proportion, dtype: float64\n",
      "Répartition cible test  : outcome\n",
      "-0.805344    0.606583\n",
      " 1.241706    0.393417\n",
      "Name: proportion, dtype: float64\n"
     ]
    }
   ],
   "source": [
    "from sklearn.model_selection import train_test_split\n",
    "\n",
    "# Séparer features et cible\n",
    "X = df.drop('outcome', axis=1)\n",
    "y = df['outcome']\n",
    "\n",
    "# print(X.dtypes)\n",
    "\n",
    "# Split (80% train / 20% test)\n",
    "X_train, X_test, y_train, y_test = train_test_split(\n",
    "    X, y, test_size=0.2, random_state=42, stratify=y\n",
    ")\n",
    "\n",
    "print(\"Taille train :\", X_train.shape, \" - Taille test :\", X_test.shape)\n",
    "print(\"Répartition cible train :\", y_train.value_counts(normalize=True))\n",
    "print(\"Répartition cible test  :\", y_test.value_counts(normalize=True))\n"
   ]
  },
  {
   "cell_type": "markdown",
   "id": "ae2970168c6af8d4",
   "metadata": {},
   "source": [
    "## 11. Modélisation initiale\n"
   ]
  },
  {
   "cell_type": "code",
   "execution_count": 45,
   "id": "1cfdfb4a7a468c63",
   "metadata": {
    "ExecuteTime": {
     "end_time": "2025-05-12T11:20:29.037067Z",
     "start_time": "2025-05-12T11:20:29.023663Z"
    }
   },
   "outputs": [
    {
     "name": "stdout",
     "output_type": "stream",
     "text": [
      "MSE   : 0.59\n",
      "RMSE  : 0.77\n",
      "R²    : 0.41\n"
     ]
    }
   ],
   "source": [
    "from sklearn.linear_model    import LinearRegression\n",
    "from sklearn.metrics         import mean_squared_error, r2_score\n",
    "import numpy as np\n",
    "\n",
    "# 11.1. Entraînement\n",
    "reg = LinearRegression()\n",
    "reg.fit(X_train, y_train)\n",
    "\n",
    "# 11.2. Prédictions\n",
    "y_pred = reg.predict(X_test)\n",
    "\n",
    "# 11.3. Évaluation\n",
    "mse  = mean_squared_error(y_test, y_pred)\n",
    "rmse = np.sqrt(mse)\n",
    "r2   = r2_score(y_test, y_pred)\n",
    "\n",
    "print(f\"MSE   : {mse:.2f}\")\n",
    "print(f\"RMSE  : {rmse:.2f}\")\n",
    "print(f\"R²    : {r2:.2f}\")\n",
    "\n",
    "\n",
    "\n",
    "\n"
   ]
  },
  {
   "cell_type": "markdown",
   "id": "fd42fc8feb3acc1",
   "metadata": {},
   "source": [
    "## 12. Validation croisée\n"
   ]
  },
  {
   "cell_type": "code",
   "execution_count": 48,
   "id": "b530e1b624dea7f8",
   "metadata": {
    "ExecuteTime": {
     "end_time": "2025-05-12T11:23:44.356665Z",
     "start_time": "2025-05-12T11:23:43.161032Z"
    }
   },
   "outputs": [
    {
     "name": "stdout",
     "output_type": "stream",
     "text": [
      "Catégorielles encodées : ['driving_experience', 'income', 'vehicle_year']\n",
      "CV MSE   : 0.58 ± 0.02\n",
      "CV RMSE  : 0.76 ± 0.01\n"
     ]
    }
   ],
   "source": [
    "from sklearn.model_selection import cross_val_score, KFold\n",
    "from sklearn.linear_model    import LinearRegression\n",
    "import numpy as np\n",
    "import pandas as pd\n",
    "\n",
    "# 12.1. Préparation des données\n",
    "X_all = df.drop(['id', 'outcome'], axis=1)\n",
    "y_all = df['outcome']\n",
    "\n",
    "# 12.2. Encodage des variables catégorielles\n",
    "cat_cols = X_all.select_dtypes(include=['object']).columns.tolist()\n",
    "print(\"Catégorielles encodées :\", cat_cols)\n",
    "X_all = pd.get_dummies(X_all, columns=cat_cols, drop_first=True)\n",
    "\n",
    "# 12.3. K-Fold (5 splits)\n",
    "cv = KFold(n_splits=5, shuffle=True, random_state=42)\n",
    "\n",
    "# 12.4. Cross-validation pour la régression\n",
    "scores = cross_val_score(\n",
    "    LinearRegression(),\n",
    "    X_all, y_all,\n",
    "    scoring='neg_mean_squared_error',\n",
    "    cv=cv,\n",
    "    n_jobs=-1\n",
    ")\n",
    "\n",
    "# 12.5. Conversion en MSE et RMSE\n",
    "mse_cv  = -scores\n",
    "rmse_cv = np.sqrt(mse_cv)\n",
    "\n",
    "# 12.6. Affichage des résultats\n",
    "print(f\"CV MSE   : {np.mean(mse_cv):.2f} ± {np.std(mse_cv):.2f}\")\n",
    "print(f\"CV RMSE  : {np.mean(rmse_cv):.2f} ± {np.std(rmse_cv):.2f}\")\n",
    "\n",
    "\n"
   ]
  },
  {
   "cell_type": "markdown",
   "id": "55c7c3f03c63815f",
   "metadata": {},
   "source": [
    "## 13. Comparaison de plusieurs modèles\n"
   ]
  },
  {
   "cell_type": "code",
   "execution_count": 53,
   "id": "800b4f89a76ae5d5",
   "metadata": {
    "ExecuteTime": {
     "end_time": "2025-05-12T11:34:50.086750Z",
     "start_time": "2025-05-12T11:34:46.578293Z"
    }
   },
   "outputs": [
    {
     "data": {
      "text/html": [
       "<div>\n",
       "<style scoped>\n",
       "    .dataframe tbody tr th:only-of-type {\n",
       "        vertical-align: middle;\n",
       "    }\n",
       "\n",
       "    .dataframe tbody tr th {\n",
       "        vertical-align: top;\n",
       "    }\n",
       "\n",
       "    .dataframe thead th {\n",
       "        text-align: right;\n",
       "    }\n",
       "</style>\n",
       "<table border=\"1\" class=\"dataframe\">\n",
       "  <thead>\n",
       "    <tr style=\"text-align: right;\">\n",
       "      <th></th>\n",
       "      <th>Model</th>\n",
       "      <th>Accuracy_Mean</th>\n",
       "      <th>Accuracy_STD</th>\n",
       "    </tr>\n",
       "  </thead>\n",
       "  <tbody>\n",
       "    <tr>\n",
       "      <th>0</th>\n",
       "      <td>LogisticRegression</td>\n",
       "      <td>0.813793</td>\n",
       "      <td>0.011287</td>\n",
       "    </tr>\n",
       "    <tr>\n",
       "      <th>2</th>\n",
       "      <td>KNeighbors</td>\n",
       "      <td>0.765831</td>\n",
       "      <td>0.011586</td>\n",
       "    </tr>\n",
       "    <tr>\n",
       "      <th>1</th>\n",
       "      <td>Perceptron</td>\n",
       "      <td>0.731505</td>\n",
       "      <td>0.026992</td>\n",
       "    </tr>\n",
       "  </tbody>\n",
       "</table>\n",
       "</div>"
      ],
      "text/plain": [
       "                Model  Accuracy_Mean  Accuracy_STD\n",
       "0  LogisticRegression       0.813793      0.011287\n",
       "2          KNeighbors       0.765831      0.011586\n",
       "1          Perceptron       0.731505      0.026992"
      ]
     },
     "metadata": {},
     "output_type": "display_data"
    }
   ],
   "source": [
    "from sklearn.linear_model     import LogisticRegression, Perceptron\n",
    "from sklearn.neighbors        import KNeighborsClassifier\n",
    "from sklearn.model_selection  import cross_val_score, KFold\n",
    "import numpy as np\n",
    "import pandas as pd\n",
    "\n",
    "# 13.1. Définition de la cible binaire\n",
    "# On transforme 'outcome' continu en 0/1 : 1 si un sinistre a eu lieu (outcome > 0), 0 sinon\n",
    "y_class = (df['outcome'] > 0).astype(int)\n",
    "\n",
    "# 13.2. Préparation des features\n",
    "X_class = df.drop(['id', 'outcome'], axis=1)\n",
    "\n",
    "# Encodage des catégorielles (s’il en reste)\n",
    "cat_cols = X_class.select_dtypes(include=['object']).columns.tolist()\n",
    "if cat_cols:\n",
    "    X_class = pd.get_dummies(X_class, columns=cat_cols, drop_first=True)\n",
    "\n",
    "# Mise à l’échelle des numériques (optionnel pour certains classifieurs)\n",
    "from sklearn.preprocessing import StandardScaler\n",
    "num_cols = X_class.select_dtypes(include=['number']).columns.tolist()\n",
    "scaler = StandardScaler()\n",
    "X_class[num_cols] = scaler.fit_transform(X_class[num_cols])\n",
    "\n",
    "# 13.3. Configuration du CV\n",
    "cv = KFold(n_splits=5, shuffle=True, random_state=42)\n",
    "\n",
    "# 13.4. Instanciation des classifieurs\n",
    "models = {\n",
    "    'LogisticRegression': LogisticRegression(max_iter=1000),\n",
    "    'Perceptron'        : Perceptron(max_iter=1000),\n",
    "    'KNeighbors'        : KNeighborsClassifier(n_neighbors=5)\n",
    "}\n",
    "\n",
    "# 13.5. Évaluation par validation croisée (accuracy)\n",
    "results = []\n",
    "for name, model in models.items():\n",
    "    scores = cross_val_score(\n",
    "        model, X_class, y_class,\n",
    "        scoring='accuracy',\n",
    "        cv=cv,\n",
    "        n_jobs=-1\n",
    "    )\n",
    "    results.append((name, np.mean(scores), np.std(scores)))\n",
    "\n",
    "# 13.6. Affichage des résultats\n",
    "df_results = pd.DataFrame(results, columns=['Model','Accuracy_Mean','Accuracy_STD'])\n",
    "display(df_results.sort_values('Accuracy_Mean', ascending=False))\n",
    "\n"
   ]
  },
  {
   "cell_type": "markdown",
   "id": "c287e4076d33ffb8",
   "metadata": {},
   "source": [
    "## 14. Hyperparameter tuning avec GridSearchCV\n"
   ]
  },
  {
   "cell_type": "code",
   "execution_count": 54,
   "id": "e8b456d8316c7349",
   "metadata": {
    "ExecuteTime": {
     "end_time": "2025-05-12T11:37:02.176759Z",
     "start_time": "2025-05-12T11:36:10.916913Z"
    }
   },
   "outputs": [
    {
     "name": "stdout",
     "output_type": "stream",
     "text": [
      "Fitting 5 folds for each of 18 candidates, totalling 90 fits\n",
      "Meilleurs paramètres : {'max_depth': 10, 'min_samples_split': 5, 'n_estimators': 500}\n",
      "Meilleur RMSE CV    : 0.7397376645135606\n"
     ]
    }
   ],
   "source": [
    "from sklearn.model_selection   import GridSearchCV, KFold\n",
    "from sklearn.ensemble          import RandomForestRegressor\n",
    "from sklearn.metrics           import make_scorer, mean_squared_error\n",
    "import numpy as np\n",
    "import pandas as pd\n",
    "\n",
    "# 14.1. Préparation des données (encodées)\n",
    "X = df.drop(['id','outcome'], axis=1)\n",
    "cat_cols = X.select_dtypes(include=['object']).columns.tolist()\n",
    "if cat_cols:\n",
    "    X = pd.get_dummies(X, columns=cat_cols, drop_first=True)\n",
    "y = df['outcome']\n",
    "\n",
    "# 14.2. Définir le modèle et la grille\n",
    "model_rf = RandomForestRegressor(random_state=42)\n",
    "param_grid = {\n",
    "    'n_estimators': [100, 200, 500],\n",
    "    'max_depth'   : [None, 5, 10],\n",
    "    'min_samples_split': [2, 5]\n",
    "}\n",
    "\n",
    "# 14.3. GridSearchCV\n",
    "cv = KFold(n_splits=5, shuffle=True, random_state=42)\n",
    "grid = GridSearchCV(\n",
    "    estimator    = model_rf,\n",
    "    param_grid   = param_grid,\n",
    "    scoring      = make_scorer(mean_squared_error, greater_is_better=False),\n",
    "    cv           = cv,\n",
    "    n_jobs       = -1,\n",
    "    verbose      = 1\n",
    ")\n",
    "\n",
    "grid.fit(X, y)\n",
    "print(\"Meilleurs paramètres :\", grid.best_params_)\n",
    "print(\"Meilleur RMSE CV    :\", np.sqrt(-grid.best_score_))\n"
   ]
  },
  {
   "cell_type": "markdown",
   "id": "ab5797a081428c50",
   "metadata": {},
   "source": [
    "## 15. Sérialisation du modèle\n"
   ]
  },
  {
   "cell_type": "code",
   "execution_count": 57,
   "id": "f51448abe2cdbfc9",
   "metadata": {
    "ExecuteTime": {
     "end_time": "2025-05-12T11:38:54.364826Z",
     "start_time": "2025-05-12T11:38:54.329948Z"
    }
   },
   "outputs": [
    {
     "name": "stdout",
     "output_type": "stream",
     "text": [
      "Modèle sauvegardé dans models/best_model_rf.pkl\n"
     ]
    }
   ],
   "source": [
    "import pickle\n",
    "\n",
    "# Récupérer le meilleur modèle\n",
    "best_rf = grid.best_estimator_\n",
    "\n",
    "# Sauvegarde\n",
    "with open('../models/best_model_rf.pkl', 'wb') as f:\n",
    "    pickle.dump(best_rf, f)\n",
    "\n",
    "print(\"Modèle sauvegardé dans models/best_model_rf.pkl\")\n"
   ]
  }
 ],
 "metadata": {
  "kernelspec": {
   "display_name": "Python 3 (ipykernel)",
   "language": "python",
   "name": "python3"
  },
  "language_info": {
   "codemirror_mode": {
    "name": "ipython",
    "version": 3
   },
   "file_extension": ".py",
   "mimetype": "text/x-python",
   "name": "python",
   "nbconvert_exporter": "python",
   "pygments_lexer": "ipython3",
   "version": "3.11.9"
  }
 },
 "nbformat": 4,
 "nbformat_minor": 5
}
